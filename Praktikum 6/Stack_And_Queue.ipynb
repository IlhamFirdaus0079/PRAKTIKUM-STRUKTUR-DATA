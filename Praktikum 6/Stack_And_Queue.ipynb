{
  "nbformat": 4,
  "nbformat_minor": 0,
  "metadata": {
    "colab": {
      "provenance": []
    },
    "kernelspec": {
      "name": "python3",
      "display_name": "Python 3"
    },
    "language_info": {
      "name": "python"
    }
  },
  "cells": [
    {
      "cell_type": "code",
      "execution_count": 2,
      "metadata": {
        "colab": {
          "base_uri": "https://localhost:8080/"
        },
        "id": "vOgwzSM7owtc",
        "outputId": "c00c7f8d-8e5b-44a2-cf05-20efb3933a6f"
      },
      "outputs": [
        {
          "output_type": "stream",
          "name": "stdout",
          "text": [
            "deque(['Ram', 'Tarun', 'Asif', 'John'])\n",
            "deque(['Ram', 'Tarun', 'Asif', 'John', 'Akbar'])\n",
            "deque(['Ram', 'Tarun', 'Asif', 'John', 'Akbar', 'Birbal'])\n",
            "Ram\n",
            "Tarun\n",
            "deque(['Asif', 'John', 'Akbar', 'Birbal'])\n"
          ]
        }
      ],
      "source": [
        "from collections import deque\n",
        "\n",
        "queue = deque([\"Ram\", \"Tarun\", \"Asif\", \"John\"])\n",
        "print(queue)\n",
        "\n",
        "queue.append(\"Akbar\")\n",
        "print(queue)\n",
        "\n",
        "queue.append(\"Birbal\")\n",
        "print(queue)\n",
        "\n",
        "print(queue.popleft())\n",
        "print(queue.popleft())\n",
        "print(queue)\n"
      ]
    },
    {
      "cell_type": "code",
      "source": [
        "def TowerofHanoi(n, dari, menuju, bantuan):\n",
        "    if n == 0:\n",
        "        return\n",
        "    TowerofHanoi(n - 1, dari, bantuan, menuju)\n",
        "    print(\"Pindah disk\", n, \"dari\", dari, \"ke\", menuju)\n",
        "    TowerofHanoi(n - 1, bantuan, menuju, dari)\n",
        "\n",
        "# Driver code\n",
        "N = 3\n",
        "# A, B, C are the name of rods\n",
        "TowerofHanoi(N, 'A', 'C', 'B')\n"
      ],
      "metadata": {
        "colab": {
          "base_uri": "https://localhost:8080/"
        },
        "id": "LftMZ-tNpF7q",
        "outputId": "4273e69a-92b8-4970-b318-0478b764e931"
      },
      "execution_count": 4,
      "outputs": [
        {
          "output_type": "stream",
          "name": "stdout",
          "text": [
            "Pindah disk 1 dari A ke C\n",
            "Pindah disk 2 dari A ke B\n",
            "Pindah disk 1 dari C ke B\n",
            "Pindah disk 3 dari A ke C\n",
            "Pindah disk 1 dari B ke A\n",
            "Pindah disk 2 dari B ke C\n",
            "Pindah disk 1 dari A ke C\n"
          ]
        }
      ]
    },
    {
      "cell_type": "code",
      "source": [
        "def sortStack(input):\n",
        "    tmpStack = []\n",
        "    while len(input) > 0:\n",
        "        # pop out the first element\n",
        "        tmp = input[-1]\n",
        "        input.pop()\n",
        "\n",
        "        # while temporary stack is not empty\n",
        "        # and top of stack is smaller than temp\n",
        "        while len(tmpStack) > 0 and tmpStack[-1] < tmp:\n",
        "            # pop from temporary stack and\n",
        "            # append it to the input stack\n",
        "            input.append(tmpStack[-1])\n",
        "            tmpStack.pop()\n",
        "\n",
        "        # append temp in temporary stack\n",
        "        tmpStack.append(tmp)\n",
        "\n",
        "    return tmpStack\n",
        "\n",
        "def sortArrayUsingStacks(arr, n):\n",
        "    # append array elements to stack\n",
        "    input_stack = []\n",
        "    i = 0\n",
        "    while i < n:\n",
        "        input_stack.append(arr[i])\n",
        "        i = i + 1\n",
        "\n",
        "    # Sort the temporary stack\n",
        "    tmpStack = sortStack(input_stack)\n",
        "\n",
        "    i = 0\n",
        "    # Put stack elements in arr[]\n",
        "    while i < n:\n",
        "        arr[i] = tmpStack[-1]\n",
        "        tmpStack.pop()\n",
        "        i = i + 1\n",
        "\n",
        "    return arr\n",
        "\n",
        "# Driver code\n",
        "arr = [10, 5, 15, 45]\n",
        "n = len(arr)\n",
        "arr = sortArrayUsingStacks(arr, n)\n",
        "i = 0\n",
        "while i < n:\n",
        "    print(arr[i], end=\" \")\n",
        "    i = i + 1\n"
      ],
      "metadata": {
        "colab": {
          "base_uri": "https://localhost:8080/"
        },
        "id": "LtHG6gO3ozBC",
        "outputId": "9080c321-e980-4492-f85a-e76c9065bcd3"
      },
      "execution_count": 5,
      "outputs": [
        {
          "output_type": "stream",
          "name": "stdout",
          "text": [
            "5 10 15 45 "
          ]
        }
      ]
    }
  ]
}