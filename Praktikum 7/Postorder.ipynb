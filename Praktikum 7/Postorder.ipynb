{
  "nbformat": 4,
  "nbformat_minor": 0,
  "metadata": {
    "colab": {
      "provenance": []
    },
    "kernelspec": {
      "name": "python3",
      "display_name": "Python 3"
    },
    "language_info": {
      "name": "python"
    }
  },
  "cells": [
    {
      "cell_type": "code",
      "execution_count": 1,
      "metadata": {
        "colab": {
          "base_uri": "https://localhost:8080/"
        },
        "id": "QhUZafdEKpsc",
        "outputId": "de6f5628-40a6-442a-afb7-46ccc2f6460b"
      },
      "outputs": [
        {
          "output_type": "stream",
          "name": "stdout",
          "text": [
            "\n",
            "Postorder traversal of binary tree is \n",
            "4\n",
            "5\n",
            "2\n",
            "3\n",
            "1\n"
          ]
        }
      ],
      "source": [
        "# Postorder Binary Tree\n",
        "\n",
        "\n",
        "class Node:\n",
        "  def __init__(self, key):\n",
        "    self.left = None\n",
        "    self.right = None\n",
        "    self.val = key\n",
        "\n",
        "# A function to do postorder tree traversal\n",
        "def printPostorder(root):\n",
        "\n",
        "  if root:\n",
        "\n",
        "    # First recur on left child\n",
        "    printPostorder(root.left)\n",
        "\n",
        "    # the recur on right child\n",
        "    printPostorder(root.right)\n",
        "\n",
        "    # now print the data of node\n",
        "    print(root.val),\n",
        "\n",
        "# Driver code\n",
        "if __name__== \"__main__\":\n",
        "  root = Node(1)\n",
        "  root.left = Node(2)\n",
        "  root.right = Node(3)\n",
        "  root.left.left = Node(4)\n",
        "  root.left.right = Node(5)\n",
        "  # Function call\n",
        "print(\"\\nPostorder traversal of binary tree is \")\n",
        "printPostorder(root)"
      ]
    }
  ]
}