{
  "nbformat": 4,
  "nbformat_minor": 0,
  "metadata": {
    "colab": {
      "provenance": []
    },
    "kernelspec": {
      "name": "python3",
      "display_name": "Python 3"
    },
    "language_info": {
      "name": "python"
    }
  },
  "cells": [
    {
      "cell_type": "markdown",
      "source": [
        "ALGORITMA BELLMAN-FORD"
      ],
      "metadata": {
        "id": "ADvbMV0PhTLL"
      }
    },
    {
      "cell_type": "code",
      "execution_count": 6,
      "metadata": {
        "colab": {
          "base_uri": "https://localhost:8080/"
        },
        "id": "_kehoGthfnMc",
        "outputId": "eb47405f-2629-46c1-9cb9-230bbfcaf3d6"
      },
      "outputs": [
        {
          "output_type": "stream",
          "name": "stdout",
          "text": [
            "Jarak dari source ke setiap vertex:\n",
            "0 -> 0\n",
            "1 -> -1\n",
            "2 -> 2\n",
            "3 -> -2\n",
            "4 -> 1\n"
          ]
        }
      ],
      "source": [
        "class Graph:\n",
        "    def __init__(self, vertices):\n",
        "        self.V = vertices\n",
        "        self.graph = []\n",
        "\n",
        "    def add_edge(self, u, v, w):\n",
        "        self.graph.append([u, v, w])\n",
        "\n",
        "    def bellman_ford(self, src):\n",
        "        # Inisialisasi jarak dari source ke semua vertex sebagai tak terhingga\n",
        "        distance = [float(\"inf\")] * self.V\n",
        "        distance[src] = 0\n",
        "\n",
        "        # Lakukan relaksasi untuk semua edge\n",
        "        for _ in range(self.V - 1):\n",
        "            for u, v, w in self.graph:\n",
        "                if distance[u] != float(\"inf\") and distance[u] + w < distance[v]:\n",
        "                    distance[v] = distance[u] + w\n",
        "\n",
        "        # Cek apakah terdapat siklus berbobot negatif\n",
        "        for u, v, w in self.graph:\n",
        "            if distance[u] != float(\"inf\") and distance[u] + w < distance[v]:\n",
        "                print(\"Graf berisi siklus berbobot negatif\")\n",
        "                return\n",
        "\n",
        "        # Tampilkan jarak dari source ke setiap vertex\n",
        "        print(\"Jarak dari source ke setiap vertex:\")\n",
        "        for i in range(self.V):\n",
        "            print(f\"{i} -> {distance[i]}\")\n",
        "\n",
        "\n",
        "# Contoh penggunaan\n",
        "g = Graph(5)\n",
        "g.add_edge(0, 1, -1)\n",
        "g.add_edge(0, 2, 4)\n",
        "g.add_edge(1, 2, 3)\n",
        "g.add_edge(1, 3, 2)\n",
        "g.add_edge(1, 4, 2)\n",
        "g.add_edge(3, 2, 5)\n",
        "g.add_edge(3, 1, 1)\n",
        "g.add_edge(4, 3, -3)\n",
        "\n",
        "source_vertex = 0\n",
        "g.bellman_ford(source_vertex)\n"
      ]
    }
  ]
}